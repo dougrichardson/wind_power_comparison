{
 "cells": [
  {
   "cell_type": "markdown",
   "id": "05b76a16-db38-428e-9356-4a1ab3646928",
   "metadata": {},
   "source": [
    "# Calculate wind capacity factors for NEM region using 20min BARRA-C2"
   ]
  },
  {
   "cell_type": "code",
   "execution_count": 37,
   "id": "32b3b5f1-daec-4656-ae23-4e6693bb06e1",
   "metadata": {},
   "outputs": [
    {
     "name": "stderr",
     "output_type": "stream",
     "text": [
      "INFO:dask_jobqueue.pbs:Resource specification for PBS not set, initializing it to select=1:ncpus=48:mem=179GB\n"
     ]
    }
   ],
   "source": [
    "client.close()\n",
    "cluster.close()"
   ]
  },
  {
   "cell_type": "code",
   "execution_count": 1,
   "id": "d11f1cb7-4bc1-413f-a31f-5a93eb872c64",
   "metadata": {},
   "outputs": [],
   "source": [
    "from dask.distributed import Client,LocalCluster\n",
    "from dask_jobqueue import PBSCluster"
   ]
  },
  {
   "cell_type": "code",
   "execution_count": 38,
   "id": "2afe4fa2-0c6c-481c-a7ff-89faf1adc9ba",
   "metadata": {
    "tags": []
   },
   "outputs": [
    {
     "name": "stderr",
     "output_type": "stream",
     "text": [
      "INFO:dask_jobqueue.pbs:Resource specification for PBS not set, initializing it to select=1:ncpus=24:mem=90GB\n"
     ]
    }
   ],
   "source": [
    "walltime = \"00:30:00\"\n",
    "cores = 24\n",
    "memory = str(4 * cores) + \"GB\"\n",
    "\n",
    "cluster = PBSCluster(\n",
    "    walltime=str(walltime),\n",
    "    cores=cores,\n",
    "    memory=str(memory),\n",
    "    processes=cores,\n",
    "    job_extra_directives=[\n",
    "        \"-q normal\",\n",
    "        \"-P dt6\",\n",
    "        \"-l ncpus=\"+str(cores),\n",
    "        \"-l mem=\"+str(memory),\n",
    "        \"-l storage=gdata/xp65+gdata/w42+gdata/rt52+gdata/ob53+scratch/w42\"\n",
    "        # \"-l storage=gdata/xp65\"\n",
    "    ],\n",
    "    local_directory=\"$TMPDIR\",\n",
    "    job_directives_skip=[\"select\"],\n",
    "    # python=\"/g/data/xp65/public/apps/med_conda_scripts/analysis3-25.08.d/bin/python\",\n",
    "    # job_script_prologue=['module load conda/analysis3-25.08'],\n",
    "    log_directory=\"/scratch/w42/dr6273/tmp/logs\"\n",
    ")"
   ]
  },
  {
   "cell_type": "code",
   "execution_count": 39,
   "id": "a6316e6a-6a7c-465e-8ae8-d6ee4cbbbb1c",
   "metadata": {
    "tags": []
   },
   "outputs": [
    {
     "name": "stderr",
     "output_type": "stream",
     "text": [
      "INFO:dask_jobqueue.pbs:Resource specification for PBS not set, initializing it to select=1:ncpus=24:mem=90GB\n"
     ]
    }
   ],
   "source": [
    "cluster.scale(jobs=1)\n",
    "client = Client(cluster)"
   ]
  },
  {
   "cell_type": "code",
   "execution_count": 40,
   "id": "d7a22723-7e10-4eac-874b-2af5b624a0df",
   "metadata": {},
   "outputs": [
    {
     "data": {
      "text/html": [
       "<div>\n",
       "    <div style=\"width: 24px; height: 24px; background-color: #e1e1e1; border: 3px solid #9D9D9D; border-radius: 5px; position: absolute;\"> </div>\n",
       "    <div style=\"margin-left: 48px;\">\n",
       "        <h3 style=\"margin-bottom: 0px;\">Client</h3>\n",
       "        <p style=\"color: #9D9D9D; margin-bottom: 0px;\">Client-d8717548-afa8-11f0-9f7f-000003a6fe80</p>\n",
       "        <table style=\"width: 100%; text-align: left;\">\n",
       "\n",
       "        <tr>\n",
       "        \n",
       "            <td style=\"text-align: left;\"><strong>Connection method:</strong> Cluster object</td>\n",
       "            <td style=\"text-align: left;\"><strong>Cluster type:</strong> dask_jobqueue.PBSCluster</td>\n",
       "        \n",
       "        </tr>\n",
       "\n",
       "        \n",
       "            <tr>\n",
       "                <td style=\"text-align: left;\">\n",
       "                    <strong>Dashboard: </strong> <a href=\"/proxy/8787/status\" target=\"_blank\">/proxy/8787/status</a>\n",
       "                </td>\n",
       "                <td style=\"text-align: left;\"></td>\n",
       "            </tr>\n",
       "        \n",
       "\n",
       "        </table>\n",
       "\n",
       "        \n",
       "            <button style=\"margin-bottom: 12px;\" data-commandlinker-command=\"dask:populate-and-launch-layout\" data-commandlinker-args='{\"url\": \"/proxy/8787/status\" }'>\n",
       "                Launch dashboard in JupyterLab\n",
       "            </button>\n",
       "        \n",
       "\n",
       "        \n",
       "            <details>\n",
       "            <summary style=\"margin-bottom: 20px;\"><h3 style=\"display: inline;\">Cluster Info</h3></summary>\n",
       "            <div class=\"jp-RenderedHTMLCommon jp-RenderedHTML jp-mod-trusted jp-OutputArea-output\">\n",
       "    <div style=\"width: 24px; height: 24px; background-color: #e1e1e1; border: 3px solid #9D9D9D; border-radius: 5px; position: absolute;\">\n",
       "    </div>\n",
       "    <div style=\"margin-left: 48px;\">\n",
       "        <h3 style=\"margin-bottom: 0px; margin-top: 0px;\">PBSCluster</h3>\n",
       "        <p style=\"color: #9D9D9D; margin-bottom: 0px;\">70591a34</p>\n",
       "        <table style=\"width: 100%; text-align: left;\">\n",
       "            <tr>\n",
       "                <td style=\"text-align: left;\">\n",
       "                    <strong>Dashboard:</strong> <a href=\"/proxy/8787/status\" target=\"_blank\">/proxy/8787/status</a>\n",
       "                </td>\n",
       "                <td style=\"text-align: left;\">\n",
       "                    <strong>Workers:</strong> 0\n",
       "                </td>\n",
       "            </tr>\n",
       "            <tr>\n",
       "                <td style=\"text-align: left;\">\n",
       "                    <strong>Total threads:</strong> 0\n",
       "                </td>\n",
       "                <td style=\"text-align: left;\">\n",
       "                    <strong>Total memory:</strong> 0 B\n",
       "                </td>\n",
       "            </tr>\n",
       "            \n",
       "        </table>\n",
       "\n",
       "        <details>\n",
       "            <summary style=\"margin-bottom: 20px;\">\n",
       "                <h3 style=\"display: inline;\">Scheduler Info</h3>\n",
       "            </summary>\n",
       "\n",
       "            <div style=\"\">\n",
       "    <div>\n",
       "        <div style=\"width: 24px; height: 24px; background-color: #FFF7E5; border: 3px solid #FF6132; border-radius: 5px; position: absolute;\"> </div>\n",
       "        <div style=\"margin-left: 48px;\">\n",
       "            <h3 style=\"margin-bottom: 0px;\">Scheduler</h3>\n",
       "            <p style=\"color: #9D9D9D; margin-bottom: 0px;\">Scheduler-f282f3c1-42a7-451e-bc94-02667ba04d45</p>\n",
       "            <table style=\"width: 100%; text-align: left;\">\n",
       "                <tr>\n",
       "                    <td style=\"text-align: left;\">\n",
       "                        <strong>Comm:</strong> tcp://10.6.121.31:42541\n",
       "                    </td>\n",
       "                    <td style=\"text-align: left;\">\n",
       "                        <strong>Workers:</strong> 0 \n",
       "                    </td>\n",
       "                </tr>\n",
       "                <tr>\n",
       "                    <td style=\"text-align: left;\">\n",
       "                        <strong>Dashboard:</strong> <a href=\"/proxy/8787/status\" target=\"_blank\">/proxy/8787/status</a>\n",
       "                    </td>\n",
       "                    <td style=\"text-align: left;\">\n",
       "                        <strong>Total threads:</strong> 0\n",
       "                    </td>\n",
       "                </tr>\n",
       "                <tr>\n",
       "                    <td style=\"text-align: left;\">\n",
       "                        <strong>Started:</strong> Just now\n",
       "                    </td>\n",
       "                    <td style=\"text-align: left;\">\n",
       "                        <strong>Total memory:</strong> 0 B\n",
       "                    </td>\n",
       "                </tr>\n",
       "            </table>\n",
       "        </div>\n",
       "    </div>\n",
       "\n",
       "    <details style=\"margin-left: 48px;\">\n",
       "        <summary style=\"margin-bottom: 20px;\">\n",
       "            <h3 style=\"display: inline;\">Workers</h3>\n",
       "        </summary>\n",
       "\n",
       "        \n",
       "\n",
       "    </details>\n",
       "</div>\n",
       "\n",
       "        </details>\n",
       "    </div>\n",
       "</div>\n",
       "            </details>\n",
       "        \n",
       "\n",
       "    </div>\n",
       "</div>"
      ],
      "text/plain": [
       "<Client: 'tcp://10.6.121.31:42541' processes=0 threads=0, memory=0 B>"
      ]
     },
     "execution_count": 40,
     "metadata": {},
     "output_type": "execute_result"
    }
   ],
   "source": [
    "client"
   ]
  },
  {
   "cell_type": "code",
   "execution_count": 5,
   "id": "7d5c6c4f-09fa-4b54-afcb-15c9c186954e",
   "metadata": {},
   "outputs": [],
   "source": [
    "import xarray as xr\n",
    "import numpy as np\n",
    "\n",
    "import matplotlib.pyplot as plt"
   ]
  },
  {
   "cell_type": "code",
   "execution_count": 6,
   "id": "f3f30113-b6c6-47fc-aa25-18eb47747c59",
   "metadata": {},
   "outputs": [
    {
     "name": "stdout",
     "output_type": "stream",
     "text": [
      "/g/data/w42/dr6273/work/wind_power_comparison\n"
     ]
    }
   ],
   "source": [
    "%cd /g/data/w42/dr6273/work/wind_power_comparison/\n",
    "import functions as fn"
   ]
  },
  {
   "cell_type": "code",
   "execution_count": 7,
   "id": "d481340b-be03-453e-b8de-05f25ce27726",
   "metadata": {},
   "outputs": [],
   "source": [
    "barra_path = \"/g/data/ob53/BARRA2/output/reanalysis/AUST-04/BOM/ERA5/historical/hres/BARRA-C2/v1/\"\n",
    "write_path = \"/scratch/w42/dr6273/BARRA-C2/\""
   ]
  },
  {
   "cell_type": "code",
   "execution_count": 8,
   "id": "fa695c98-5681-474e-a6a6-a2bbe1d6a791",
   "metadata": {},
   "outputs": [],
   "source": [
    "# # Box encompassing NEM REZs\n",
    "# lons = slice(133.5, 153.7)\n",
    "# lats = slice(-43.4, -13.9)\n",
    "lons = fn.get_rez_boundary()[\"lon\"]\n",
    "lats = fn.get_rez_boundary()[\"lat\"]"
   ]
  },
  {
   "cell_type": "markdown",
   "id": "8d162cf9-5c4b-4e25-bab5-b0bb59ceb3f5",
   "metadata": {},
   "source": [
    "### Compute wind speed"
   ]
  },
  {
   "cell_type": "code",
   "execution_count": 9,
   "id": "976fa9f5-513b-40ab-a757-f058f18e2fef",
   "metadata": {},
   "outputs": [],
   "source": [
    "def windspeed(u, v):\n",
    "    \"\"\"\n",
    "    Compute windspeed from u and v\n",
    "    \n",
    "    u: array of zonal wind\n",
    "    v: array of meridional wind\n",
    "    \"\"\"\n",
    "    return np.sqrt(u ** 2 + v ** 2)"
   ]
  },
  {
   "cell_type": "code",
   "execution_count": 10,
   "id": "8750a2b7-9f4f-4aa7-af67-6c1a6939e0f6",
   "metadata": {},
   "outputs": [],
   "source": [
    "def open_barra(fp, lat_slice, lon_slice, lat_name=\"lat\", lon_name=\"lon\"):\n",
    "    \"\"\"\n",
    "    Open multiple files and preprocess to region.\n",
    "    \n",
    "    fp: str, path to file. Should not include files, only the path to dir.\n",
    "    lat_slice, lon_slice: slice of lat/lon to subset\n",
    "    lat_name, lon_name: names of lat/lon coords.\n",
    "    \"\"\"\n",
    "    def preprocess(ds):\n",
    "        # ds = ds.rename({lat_name: \"lat\"})\n",
    "        # ds = ds.rename({lon_name: \"lon\"})\n",
    "        ds = ds.sel(lon=lon_slice, lat=lat_slice)\n",
    "        # ds[\"time\"] = ds[\"time\"].dt.round(freq=\"20min\")\n",
    "        return ds.astype(\"float32\")\n",
    "    \n",
    "    ds = xr.open_mfdataset(\n",
    "        fp,\n",
    "        preprocess=preprocess,\n",
    "        chunks={\"time\": \"300MB\"},# \"lat\": -1, \"lon\": -1},\n",
    "        concat_dim=\"time\",\n",
    "        combine=\"nested\",\n",
    "        compat=\"override\",\n",
    "        coords=\"minimal\",\n",
    "        data_vars=\"minimal\",\n",
    "        # decode_times=True\n",
    "        # parallel=True\n",
    "    )\n",
    "    return ds"
   ]
  },
  {
   "cell_type": "code",
   "execution_count": 11,
   "id": "77957d86-4c1d-439d-89f3-15c39b55943d",
   "metadata": {},
   "outputs": [],
   "source": [
    "def get_filename(variable, frequency, year, month):\n",
    "    \"\"\"\n",
    "    Return BARRA-C2 AUST-04 historical data filepaths\n",
    "    \n",
    "    variable: str, variable name e.g. ua100m\n",
    "    frequency: str, timestep e.g. 20min, 1hr\n",
    "    year: str\n",
    "    month: str, month in format '01', '02', ..., '12'\n",
    "    \"\"\"\n",
    "    file_template = variable + \"_AUST-04_ERA5_historical_hres_BOM_BARRA-C2_v1_\" + frequency + \"_\"\n",
    "    return barra_path + frequency + \"/\" + variable + \"/latest/\" + file_template + year + month + \"-\" + year + month + \".nc\""
   ]
  },
  {
   "cell_type": "code",
   "execution_count": 26,
   "id": "9d7d7851-49e3-4246-a011-2af73d9890aa",
   "metadata": {},
   "outputs": [],
   "source": [
    "years = range(1979, 2025)\n",
    "freq = \"20min\"\n",
    "height_str = \"100m\"\n",
    "month_str = [\"01\", \"02\", \"03\", \"04\", \"05\", \"06\", \"07\", \"08\", \"09\", \"10\", \"11\", \"12\"]"
   ]
  },
  {
   "cell_type": "code",
   "execution_count": 18,
   "id": "73e40b18-f089-47c1-847b-c1ff1c3e8078",
   "metadata": {},
   "outputs": [
    {
     "data": {
      "text/plain": [
       "range(2020, 2025)"
      ]
     },
     "execution_count": 18,
     "metadata": {},
     "output_type": "execute_result"
    }
   ],
   "source": [
    "years[41:]"
   ]
  },
  {
   "cell_type": "code",
   "execution_count": 19,
   "id": "8450653e-8186-4dde-8e48-52e9d57a0ba1",
   "metadata": {},
   "outputs": [],
   "source": [
    "# client.restart()"
   ]
  },
  {
   "cell_type": "code",
   "execution_count": 19,
   "id": "416d27bc-2036-43a9-9dd7-383cdc72fe04",
   "metadata": {
    "tags": []
   },
   "outputs": [
    {
     "name": "stdout",
     "output_type": "stream",
     "text": [
      "2020\n"
     ]
    }
   ],
   "source": [
    "for year in years[41:]:\n",
    "    if year % 5 == 0:\n",
    "        print(year)\n",
    "        \n",
    "    monthly_arrays = []\n",
    "    for month in month_str[:]:\n",
    "        \n",
    "        u = open_barra(\n",
    "            get_filename(\"ua\"+height_str, freq, str(year), month),\n",
    "            lats,\n",
    "            lons\n",
    "        )\n",
    "        v = open_barra(\n",
    "            get_filename(\"va\"+height_str, freq, str(year), month),\n",
    "            lats,\n",
    "            lons\n",
    "        )\n",
    "        w = windspeed(\n",
    "            u.rename({\"ua\"+height_str: \"w\"+height_str}),\n",
    "            v.rename({\"va\"+height_str: \"w\"+height_str})\n",
    "        )\n",
    "        # w = w.chunk({\"time\": 200, \"lat\": -1, \"lon\": -1})\n",
    "        # w = w.persist()\n",
    "        \n",
    "        cf = fn.capacity_factor_vdW(w[\"w\"+height_str])\n",
    "                \n",
    "        # Chunk size of 72 as it is the greatest common divisor of\n",
    "        #. the different time steps associated with each month\n",
    "        cf = cf.chunk({\"time\": 72, \"lat\": -1, \"lon\": -1})\n",
    "        \n",
    "        cf = cf.to_dataset(name=\"cf\"+height_str)\n",
    "        \n",
    "        encoding = {\n",
    "            \"cf\"+height_str: {\"dtype\": \"float32\"}\n",
    "        }\n",
    "        \n",
    "        if month == \"01\":\n",
    "            cf.to_zarr(\n",
    "                write_path + \"derived/wind_capacity_factor/cf\" + height_str + \"_vdW_BARRA-C2_\" + freq + \"_\" + str(year) + \".zarr\",\n",
    "                mode=\"w\",\n",
    "                encoding=encoding,\n",
    "                consolidated=True,\n",
    "            )\n",
    "        else:\n",
    "            cf.to_zarr(\n",
    "                write_path + \"derived/wind_capacity_factor/cf\" + height_str + \"_vdW_BARRA-C2_\" + freq + \"_\" + str(year) + \".zarr\",\n",
    "                mode=\"a\",\n",
    "                append_dim=\"time\",\n",
    "                consolidated=True,\n",
    "            )"
   ]
  },
  {
   "cell_type": "markdown",
   "id": "e2d7225c-981e-457e-abeb-c34e601c6548",
   "metadata": {},
   "source": [
    "### Sense-check that 1-hour data matches the same time steps of 20min data"
   ]
  },
  {
   "cell_type": "code",
   "execution_count": 55,
   "id": "fb459404-e545-4324-9584-4b53bd5fdfa4",
   "metadata": {},
   "outputs": [],
   "source": [
    "year = 2000\n",
    "# freq1 = \"20min\"\n",
    "height_str = \"100m\"\n",
    "month = \"06\"\n",
    "# month_str = [\"01\", \"02\", \"03\", \"04\", \"05\", \"06\", \"07\", \"08\", \"09\", \"10\", \"11\", \"12\"]"
   ]
  },
  {
   "cell_type": "code",
   "execution_count": 25,
   "id": "59379e4f-a39f-421b-bcfc-0f2127448a37",
   "metadata": {},
   "outputs": [],
   "source": [
    "u20min = open_barra(\n",
    "    get_filename(\"ua\"+height_str, \"20min\", str(year), month),\n",
    "    lats,\n",
    "    lons\n",
    ")"
   ]
  },
  {
   "cell_type": "code",
   "execution_count": 48,
   "id": "68b40c25-a6d1-43de-8bab-d427c2f99cc5",
   "metadata": {},
   "outputs": [],
   "source": [
    "u1hr = open_barra(\n",
    "    get_filename(\"ua\"+height_str, \"1hr\", str(year), month),\n",
    "    lats,\n",
    "    lons\n",
    ")"
   ]
  },
  {
   "cell_type": "code",
   "execution_count": 33,
   "id": "1f590110-b1a1-4944-a319-b0e76fe69aa3",
   "metadata": {},
   "outputs": [],
   "source": [
    "lat = -30\n",
    "lon = 150"
   ]
  },
  {
   "cell_type": "code",
   "execution_count": 49,
   "id": "c7b30dde-34c4-405f-bd9a-293c27079d07",
   "metadata": {},
   "outputs": [],
   "source": [
    "u20 = u20min.ua100m.sel(time=slice(None, None, 3)).sel(lat=lat, lon=lon, method=\"nearest\").compute()"
   ]
  },
  {
   "cell_type": "code",
   "execution_count": 51,
   "id": "064094f7-4ea1-4181-ac9b-dbf170a761ef",
   "metadata": {},
   "outputs": [],
   "source": [
    "u1h = u1hr.ua100m.sel(lat=lat, lon=lon, method=\"nearest\").compute()"
   ]
  },
  {
   "cell_type": "code",
   "execution_count": 52,
   "id": "3016196f-6a8d-4fd7-84be-e6602c667a0b",
   "metadata": {},
   "outputs": [
    {
     "data": {
      "text/plain": [
       "[<matplotlib.lines.Line2D at 0x14df2966a250>]"
      ]
     },
     "execution_count": 52,
     "metadata": {},
     "output_type": "execute_result"
    },
    {
     "data": {
      "image/png": "[encoded data removed]",
      "text/plain": [
       "<Figure size 640x480 with 1 Axes>"
      ]
     },
     "metadata": {},
     "output_type": "display_data"
    }
   ],
   "source": [
    "u20.plot()\n",
    "u1h.plot()"
   ]
  },
  {
   "cell_type": "markdown",
   "id": "3af20a7b-e375-4172-acab-7d072d022995",
   "metadata": {},
   "source": [
    "# Close cluster"
   ]
  },
  {
   "cell_type": "code",
   "execution_count": 56,
   "id": "2737c756-5605-424d-9b1b-e74e889d0acd",
   "metadata": {},
   "outputs": [
    {
     "name": "stderr",
     "output_type": "stream",
     "text": [
      "INFO:dask_jobqueue.pbs:Resource specification for PBS not set, initializing it to select=1:ncpus=24:mem=90GB\n"
     ]
    }
   ],
   "source": [
    "client.close()\n",
    "cluster.close()"
   ]
  },
  {
   "cell_type": "code",
   "execution_count": null,
   "id": "76f3bd33-e28d-4804-972b-f2610cd42d24",
   "metadata": {},
   "outputs": [],
   "source": []
  },
  {
   "cell_type": "code",
   "execution_count": null,
   "id": "b01c2c30-590f-4f86-91d6-92f72e753f98",
   "metadata": {},
   "outputs": [],
   "source": []
  }
 ],
 "metadata": {
  "kernelspec": {
   "display_name": "Python [conda env:analysis3]",
   "language": "python",
   "name": "conda-env-analysis3-py"
  },
  "language_info": {
   "codemirror_mode": {
    "name": "ipython",
    "version": 3
   },
   "file_extension": ".py",
   "mimetype": "text/x-python",
   "name": "python",
   "nbconvert_exporter": "python",
   "pygments_lexer": "ipython3",
   "version": "3.11.13"
  }
 },
 "nbformat": 4,
 "nbformat_minor": 5
}
